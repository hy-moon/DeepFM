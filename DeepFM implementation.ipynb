{
 "cells": [
  {
   "cell_type": "code",
   "execution_count": 1,
   "metadata": {},
   "outputs": [
    {
     "name": "stderr",
     "output_type": "stream",
     "text": [
      "Using TensorFlow backend.\n"
     ]
    }
   ],
   "source": [
    "import pandas as pd\n",
    "import numpy as np\n",
    "import tensorflow as tf\n",
    "import keras\n",
    "import sys\n",
    "import pydot\n",
    "\n",
    "from sklearn.model_selection import train_test_split\n",
    "from tqdm import tqdm\n",
    "from IPython.display import SVG\n",
    "from keras.utils import plot_model\n",
    "from keras import optimizers\n",
    "from keras.layers.normalization import BatchNormalization\n",
    "from keras.callbacks import EarlyStopping, ModelCheckpoint\n",
    "from keras.metrics import AUC\n",
    "from keras.layers import Lambda,Reshape,Input,Embedding,Dense,Flatten,Activation,concatenate,dot,add,multiply,subtract,Dropout\n",
    "from keras.models import Model\n",
    "from tensorflow.keras.preprocessing import sequence\n",
    "from keras.layers.advanced_activations import PReLU,ReLU\n",
    "from keras.regularizers import l2 as l2_reg\n",
    "from sklearn.preprocessing import LabelEncoder,StandardScaler\n",
    "from keras import backend as K"
   ]
  },
  {
   "cell_type": "code",
   "execution_count": 2,
   "metadata": {},
   "outputs": [],
   "source": [
    "#train = pd.read_csv('train_merge_data.csv', index_col=0)\n",
    "#test = pd.read_csv('test_merge_data.csv',index_col=0)\n",
    "Train = pd.read_csv('train_job/train.csv')\n",
    "Test = pd.read_csv('test_job.csv')\n",
    "tags = pd.read_csv('train_job/tags.csv')\n",
    "user_tags = pd.read_csv('train_job/user_tags.csv')\n",
    "job_tags = pd.read_csv('train_job/job_tags.csv')\n",
    "company = pd.read_csv('train_job/job_companies.csv')"
   ]
  },
  {
   "cell_type": "code",
   "execution_count": 3,
   "metadata": {},
   "outputs": [],
   "source": [
    "data = pd.concat([Test,Train.drop(columns='applied')])"
   ]
  },
  {
   "cell_type": "code",
   "execution_count": 4,
   "metadata": {},
   "outputs": [],
   "source": [
    "company.companySize.fillna('?',inplace=True)"
   ]
  },
  {
   "cell_type": "code",
   "execution_count": 5,
   "metadata": {},
   "outputs": [
    {
     "data": {
      "text/html": [
       "<div>\n",
       "<style scoped>\n",
       "    .dataframe tbody tr th:only-of-type {\n",
       "        vertical-align: middle;\n",
       "    }\n",
       "\n",
       "    .dataframe tbody tr th {\n",
       "        vertical-align: top;\n",
       "    }\n",
       "\n",
       "    .dataframe thead th {\n",
       "        text-align: right;\n",
       "    }\n",
       "</style>\n",
       "<table border=\"1\" class=\"dataframe\">\n",
       "  <thead>\n",
       "    <tr style=\"text-align: right;\">\n",
       "      <th></th>\n",
       "      <th>userID</th>\n",
       "      <th>jobID</th>\n",
       "      <th>applied</th>\n",
       "    </tr>\n",
       "  </thead>\n",
       "  <tbody>\n",
       "    <tr>\n",
       "      <th>0</th>\n",
       "      <td>fe292163d06253b716e9a0099b42031d</td>\n",
       "      <td>15de21c670ae7c3f6f3f1f37029303c9</td>\n",
       "      <td>0</td>\n",
       "    </tr>\n",
       "    <tr>\n",
       "      <th>1</th>\n",
       "      <td>6377fa90618fae77571e8dc90d98d409</td>\n",
       "      <td>55b37c5c270e5d84c793e486d798c01d</td>\n",
       "      <td>0</td>\n",
       "    </tr>\n",
       "    <tr>\n",
       "      <th>2</th>\n",
       "      <td>8ec0888a5b04139be0dfe942c7eb4199</td>\n",
       "      <td>0fcbc61acd0479dc77e3cccc0f5ffca7</td>\n",
       "      <td>1</td>\n",
       "    </tr>\n",
       "  </tbody>\n",
       "</table>\n",
       "</div>"
      ],
      "text/plain": [
       "                             userID                             jobID  applied\n",
       "0  fe292163d06253b716e9a0099b42031d  15de21c670ae7c3f6f3f1f37029303c9        0\n",
       "1  6377fa90618fae77571e8dc90d98d409  55b37c5c270e5d84c793e486d798c01d        0\n",
       "2  8ec0888a5b04139be0dfe942c7eb4199  0fcbc61acd0479dc77e3cccc0f5ffca7        1"
      ]
     },
     "execution_count": 5,
     "metadata": {},
     "output_type": "execute_result"
    }
   ],
   "source": [
    "Train.head(3)"
   ]
  },
  {
   "cell_type": "code",
   "execution_count": 6,
   "metadata": {},
   "outputs": [
    {
     "data": {
      "text/html": [
       "<div>\n",
       "<style scoped>\n",
       "    .dataframe tbody tr th:only-of-type {\n",
       "        vertical-align: middle;\n",
       "    }\n",
       "\n",
       "    .dataframe tbody tr th {\n",
       "        vertical-align: top;\n",
       "    }\n",
       "\n",
       "    .dataframe thead th {\n",
       "        text-align: right;\n",
       "    }\n",
       "</style>\n",
       "<table border=\"1\" class=\"dataframe\">\n",
       "  <thead>\n",
       "    <tr style=\"text-align: right;\">\n",
       "      <th></th>\n",
       "      <th>userID</th>\n",
       "      <th>jobID</th>\n",
       "    </tr>\n",
       "  </thead>\n",
       "  <tbody>\n",
       "    <tr>\n",
       "      <th>0</th>\n",
       "      <td>ebaee1af0c501f22ddfe242fc16dae53</td>\n",
       "      <td>352407221afb776e3143e8a1a0577885</td>\n",
       "    </tr>\n",
       "    <tr>\n",
       "      <th>1</th>\n",
       "      <td>9ab05403ac7808cbfba3da26665f7a9c</td>\n",
       "      <td>96b9bff013acedfb1d140579e2fbeb63</td>\n",
       "    </tr>\n",
       "    <tr>\n",
       "      <th>2</th>\n",
       "      <td>33349e909eba71677299d2fc97e158b7</td>\n",
       "      <td>58d4d1e7b1e97b258c9ed0b37e02d087</td>\n",
       "    </tr>\n",
       "  </tbody>\n",
       "</table>\n",
       "</div>"
      ],
      "text/plain": [
       "                             userID                             jobID\n",
       "0  ebaee1af0c501f22ddfe242fc16dae53  352407221afb776e3143e8a1a0577885\n",
       "1  9ab05403ac7808cbfba3da26665f7a9c  96b9bff013acedfb1d140579e2fbeb63\n",
       "2  33349e909eba71677299d2fc97e158b7  58d4d1e7b1e97b258c9ed0b37e02d087"
      ]
     },
     "execution_count": 6,
     "metadata": {},
     "output_type": "execute_result"
    }
   ],
   "source": [
    "Test.head(3)"
   ]
  },
  {
   "cell_type": "code",
   "execution_count": 7,
   "metadata": {},
   "outputs": [
    {
     "data": {
      "text/html": [
       "<div>\n",
       "<style scoped>\n",
       "    .dataframe tbody tr th:only-of-type {\n",
       "        vertical-align: middle;\n",
       "    }\n",
       "\n",
       "    .dataframe tbody tr th {\n",
       "        vertical-align: top;\n",
       "    }\n",
       "\n",
       "    .dataframe thead th {\n",
       "        text-align: right;\n",
       "    }\n",
       "</style>\n",
       "<table border=\"1\" class=\"dataframe\">\n",
       "  <thead>\n",
       "    <tr style=\"text-align: right;\">\n",
       "      <th></th>\n",
       "      <th>tagID</th>\n",
       "      <th>keyword</th>\n",
       "    </tr>\n",
       "  </thead>\n",
       "  <tbody>\n",
       "    <tr>\n",
       "      <th>0</th>\n",
       "      <td>602d1305678a8d5fdb372271e980da6a</td>\n",
       "      <td>Amazon Web Services(AWS)</td>\n",
       "    </tr>\n",
       "    <tr>\n",
       "      <th>1</th>\n",
       "      <td>e3251075554389fe91d17a794861d47b</td>\n",
       "      <td>Tensorflow</td>\n",
       "    </tr>\n",
       "    <tr>\n",
       "      <th>2</th>\n",
       "      <td>a1d50185e7426cbb0acad1e6ca74b9aa</td>\n",
       "      <td>Docker</td>\n",
       "    </tr>\n",
       "  </tbody>\n",
       "</table>\n",
       "</div>"
      ],
      "text/plain": [
       "                              tagID                   keyword\n",
       "0  602d1305678a8d5fdb372271e980da6a  Amazon Web Services(AWS)\n",
       "1  e3251075554389fe91d17a794861d47b                Tensorflow\n",
       "2  a1d50185e7426cbb0acad1e6ca74b9aa                    Docker"
      ]
     },
     "execution_count": 7,
     "metadata": {},
     "output_type": "execute_result"
    }
   ],
   "source": [
    "tags.head(3)"
   ]
  },
  {
   "cell_type": "code",
   "execution_count": 8,
   "metadata": {},
   "outputs": [
    {
     "data": {
      "text/html": [
       "<div>\n",
       "<style scoped>\n",
       "    .dataframe tbody tr th:only-of-type {\n",
       "        vertical-align: middle;\n",
       "    }\n",
       "\n",
       "    .dataframe tbody tr th {\n",
       "        vertical-align: top;\n",
       "    }\n",
       "\n",
       "    .dataframe thead th {\n",
       "        text-align: right;\n",
       "    }\n",
       "</style>\n",
       "<table border=\"1\" class=\"dataframe\">\n",
       "  <thead>\n",
       "    <tr style=\"text-align: right;\">\n",
       "      <th></th>\n",
       "      <th>userID</th>\n",
       "      <th>tagID</th>\n",
       "    </tr>\n",
       "  </thead>\n",
       "  <tbody>\n",
       "    <tr>\n",
       "      <th>0</th>\n",
       "      <td>e576423831e043f7928d9ac113abbe6f</td>\n",
       "      <td>82c2559140b95ccda9c6ca4a8b981f1e</td>\n",
       "    </tr>\n",
       "    <tr>\n",
       "      <th>1</th>\n",
       "      <td>e576423831e043f7928d9ac113abbe6f</td>\n",
       "      <td>2ba8698b79439589fdd2b0f7218d8b07</td>\n",
       "    </tr>\n",
       "    <tr>\n",
       "      <th>2</th>\n",
       "      <td>e576423831e043f7928d9ac113abbe6f</td>\n",
       "      <td>351b33587c5fdd93bd42ef7ac9995a28</td>\n",
       "    </tr>\n",
       "  </tbody>\n",
       "</table>\n",
       "</div>"
      ],
      "text/plain": [
       "                             userID                             tagID\n",
       "0  e576423831e043f7928d9ac113abbe6f  82c2559140b95ccda9c6ca4a8b981f1e\n",
       "1  e576423831e043f7928d9ac113abbe6f  2ba8698b79439589fdd2b0f7218d8b07\n",
       "2  e576423831e043f7928d9ac113abbe6f  351b33587c5fdd93bd42ef7ac9995a28"
      ]
     },
     "execution_count": 8,
     "metadata": {},
     "output_type": "execute_result"
    }
   ],
   "source": [
    "user_tags.head(3)"
   ]
  },
  {
   "cell_type": "code",
   "execution_count": 9,
   "metadata": {},
   "outputs": [
    {
     "data": {
      "text/html": [
       "<div>\n",
       "<style scoped>\n",
       "    .dataframe tbody tr th:only-of-type {\n",
       "        vertical-align: middle;\n",
       "    }\n",
       "\n",
       "    .dataframe tbody tr th {\n",
       "        vertical-align: top;\n",
       "    }\n",
       "\n",
       "    .dataframe thead th {\n",
       "        text-align: right;\n",
       "    }\n",
       "</style>\n",
       "<table border=\"1\" class=\"dataframe\">\n",
       "  <thead>\n",
       "    <tr style=\"text-align: right;\">\n",
       "      <th></th>\n",
       "      <th>jobID</th>\n",
       "      <th>tagID</th>\n",
       "    </tr>\n",
       "  </thead>\n",
       "  <tbody>\n",
       "    <tr>\n",
       "      <th>0</th>\n",
       "      <td>320722549d1751cf3f247855f937b982</td>\n",
       "      <td>d38901788c533e8286cb6400b40b386d</td>\n",
       "    </tr>\n",
       "    <tr>\n",
       "      <th>1</th>\n",
       "      <td>e744f91c29ec99f0e662c9177946c627</td>\n",
       "      <td>3948ead63a9f2944218de038d8934305</td>\n",
       "    </tr>\n",
       "    <tr>\n",
       "      <th>2</th>\n",
       "      <td>e744f91c29ec99f0e662c9177946c627</td>\n",
       "      <td>0e095e054ee94774d6a496099eb1cf6a</td>\n",
       "    </tr>\n",
       "  </tbody>\n",
       "</table>\n",
       "</div>"
      ],
      "text/plain": [
       "                              jobID                             tagID\n",
       "0  320722549d1751cf3f247855f937b982  d38901788c533e8286cb6400b40b386d\n",
       "1  e744f91c29ec99f0e662c9177946c627  3948ead63a9f2944218de038d8934305\n",
       "2  e744f91c29ec99f0e662c9177946c627  0e095e054ee94774d6a496099eb1cf6a"
      ]
     },
     "execution_count": 9,
     "metadata": {},
     "output_type": "execute_result"
    }
   ],
   "source": [
    "job_tags.head(3)"
   ]
  },
  {
   "cell_type": "code",
   "execution_count": 10,
   "metadata": {
    "scrolled": true
   },
   "outputs": [],
   "source": [
    "jobIDs = data.jobID.unique()\n",
    "userIDs = data.userID.unique()\n",
    "tagIDs = tags.tagID.unique()\n",
    "companyIDs = company.companyID.unique()\n",
    "\n",
    "jobID_encoder = LabelEncoder(); jobID_encoder.fit(jobIDs)\n",
    "userID_encoder = LabelEncoder(); userID_encoder.fit(userIDs)\n",
    "tagID_encoder = LabelEncoder(); tagID_encoder.fit(tagIDs)\n",
    "companyID_encoder = LabelEncoder(); companyID_encoder.fit(companyIDs)\n",
    "companySize_encoder = LabelEncoder()\n",
    "\n",
    "uniq_tagID = tagID_encoder.transform(tagIDs)\n",
    "\n",
    "company.jobID = jobID_encoder.transform(company.jobID)\n",
    "company.companyID = companyID_encoder.transform(company.companyID)\n",
    "company.companySize = companySize_encoder.fit_transform(company.companySize)\n",
    "\n",
    "user_tags.userID = userID_encoder.transform(user_tags.userID)\n",
    "user_tags.tagID = tagID_encoder.transform(user_tags.tagID)\n",
    "\n",
    "job_tags.jobID = jobID_encoder.transform(job_tags.jobID)\n",
    "job_tags.tagID = tagID_encoder.transform(job_tags.tagID)\n",
    "\n",
    "def get_userTags(uid):\n",
    "    return list(user_tags[user_tags.userID==uid].tagID.unique())\n",
    "def get_jobTags(jid):\n",
    "    return list(job_tags[job_tags.jobID==jid].tagID.unique())\n",
    "def get_matchTags(df):\n",
    "    return np.array(list(set(df.userTags)&set(df.jobTags)))\n",
    "def get_matchTagsPer(df):\n",
    "    # user tag중 job tag와 겹치는 tag 비율\n",
    "    return len(df['matchTags'])/len(set(df.userTags))\n",
    "\n",
    "def preprocess(df):\n",
    "    df['userID'] = userID_encoder.transform(df['userID'])\n",
    "    df['jobID'] = jobID_encoder.transform(df['jobID'])\n",
    "    df['userTags'] = df.userID.apply(lambda x:get_userTags(x))\n",
    "    df['jobTags'] = df.jobID.apply(lambda x:get_jobTags(x))\n",
    "    df['matchTags'] = df.apply(get_matchTags,axis=1)\n",
    "    df['matchTagsPer'] = df.apply(get_matchTagsPer,axis=1)\n",
    "    df['anyMatch'] = df['matchTags'].apply(lambda x: 1 if len(x)>0 else 0)\n",
    "    df = df.merge(company, how='left', on='jobID')\n",
    "    return df"
   ]
  },
  {
   "cell_type": "code",
   "execution_count": 11,
   "metadata": {},
   "outputs": [
    {
     "name": "stderr",
     "output_type": "stream",
     "text": [
      "C:\\Users\\moon\\Anaconda3\\lib\\site-packages\\ipykernel_launcher.py:5: FutureWarning: Sorting because non-concatenation axis is not aligned. A future version\n",
      "of pandas will change to not sort by default.\n",
      "\n",
      "To accept the future behavior, pass 'sort=False'.\n",
      "\n",
      "To retain the current behavior and silence the warning, pass 'sort=True'.\n",
      "\n",
      "  \"\"\"\n"
     ]
    }
   ],
   "source": [
    "Train = preprocess(Train)\n",
    "Test = preprocess(Test)\n",
    "\n",
    "max_len = 0\n",
    "for i in pd.concat([Train,Test])['matchTags'].values:\n",
    "    max_len = max(len(i),max_len)"
   ]
  },
  {
   "cell_type": "code",
   "execution_count": 12,
   "metadata": {},
   "outputs": [],
   "source": [
    "#user, job 일치하는 tag padding\n",
    "def pad_matchTags(df):\n",
    "    pad = df['matchTags'].values\n",
    "    return sequence.pad_sequences(pad,padding='post')\n",
    "\n",
    "train_matchTags = pad_matchTags(Train)\n",
    "test_matchTags = pad_matchTags(Test)"
   ]
  },
  {
   "cell_type": "code",
   "execution_count": 13,
   "metadata": {
    "scrolled": true
   },
   "outputs": [
    {
     "data": {
      "text/html": [
       "<div>\n",
       "<style scoped>\n",
       "    .dataframe tbody tr th:only-of-type {\n",
       "        vertical-align: middle;\n",
       "    }\n",
       "\n",
       "    .dataframe tbody tr th {\n",
       "        vertical-align: top;\n",
       "    }\n",
       "\n",
       "    .dataframe thead th {\n",
       "        text-align: right;\n",
       "    }\n",
       "</style>\n",
       "<table border=\"1\" class=\"dataframe\">\n",
       "  <thead>\n",
       "    <tr style=\"text-align: right;\">\n",
       "      <th></th>\n",
       "      <th>userID</th>\n",
       "      <th>jobID</th>\n",
       "      <th>applied</th>\n",
       "      <th>userTags</th>\n",
       "      <th>jobTags</th>\n",
       "      <th>matchTags</th>\n",
       "      <th>matchTagsPer</th>\n",
       "      <th>anyMatch</th>\n",
       "      <th>companyID</th>\n",
       "      <th>companySize</th>\n",
       "    </tr>\n",
       "  </thead>\n",
       "  <tbody>\n",
       "    <tr>\n",
       "      <th>0</th>\n",
       "      <td>195</td>\n",
       "      <td>52</td>\n",
       "      <td>0</td>\n",
       "      <td>[141, 558, 836, 301, 142, 623, 404, 439, 878, ...</td>\n",
       "      <td>[590, 726]</td>\n",
       "      <td>[]</td>\n",
       "      <td>0.000000</td>\n",
       "      <td>0</td>\n",
       "      <td>79</td>\n",
       "      <td>3</td>\n",
       "    </tr>\n",
       "    <tr>\n",
       "      <th>1</th>\n",
       "      <td>64</td>\n",
       "      <td>245</td>\n",
       "      <td>0</td>\n",
       "      <td>[836, 485, 501, 439, 205, 640, 282, 42, 510, 8...</td>\n",
       "      <td>[732, 224, 697]</td>\n",
       "      <td>[697]</td>\n",
       "      <td>0.040000</td>\n",
       "      <td>1</td>\n",
       "      <td>141</td>\n",
       "      <td>2</td>\n",
       "    </tr>\n",
       "    <tr>\n",
       "      <th>2</th>\n",
       "      <td>111</td>\n",
       "      <td>35</td>\n",
       "      <td>1</td>\n",
       "      <td>[855, 595, 724, 308, 204, 271, 132]</td>\n",
       "      <td>[212, 595, 378]</td>\n",
       "      <td>[595]</td>\n",
       "      <td>0.142857</td>\n",
       "      <td>1</td>\n",
       "      <td>259</td>\n",
       "      <td>7</td>\n",
       "    </tr>\n",
       "    <tr>\n",
       "      <th>3</th>\n",
       "      <td>190</td>\n",
       "      <td>177</td>\n",
       "      <td>0</td>\n",
       "      <td>[396, 855, 423, 709, 77, 595, 42, 204, 224, 78...</td>\n",
       "      <td>[42, 780, 439, 709, 366]</td>\n",
       "      <td>[42, 709, 439]</td>\n",
       "      <td>0.176471</td>\n",
       "      <td>1</td>\n",
       "      <td>146</td>\n",
       "      <td>3</td>\n",
       "    </tr>\n",
       "    <tr>\n",
       "      <th>4</th>\n",
       "      <td>159</td>\n",
       "      <td>117</td>\n",
       "      <td>0</td>\n",
       "      <td>[161, 271, 809, 126, 614, 836, 696, 501, 655, ...</td>\n",
       "      <td>[224, 439, 42, 480]</td>\n",
       "      <td>[42]</td>\n",
       "      <td>0.050000</td>\n",
       "      <td>1</td>\n",
       "      <td>195</td>\n",
       "      <td>6</td>\n",
       "    </tr>\n",
       "  </tbody>\n",
       "</table>\n",
       "</div>"
      ],
      "text/plain": [
       "   userID  jobID  applied                                           userTags  \\\n",
       "0     195     52        0  [141, 558, 836, 301, 142, 623, 404, 439, 878, ...   \n",
       "1      64    245        0  [836, 485, 501, 439, 205, 640, 282, 42, 510, 8...   \n",
       "2     111     35        1                [855, 595, 724, 308, 204, 271, 132]   \n",
       "3     190    177        0  [396, 855, 423, 709, 77, 595, 42, 204, 224, 78...   \n",
       "4     159    117        0  [161, 271, 809, 126, 614, 836, 696, 501, 655, ...   \n",
       "\n",
       "                    jobTags       matchTags  matchTagsPer  anyMatch  \\\n",
       "0                [590, 726]              []      0.000000         0   \n",
       "1           [732, 224, 697]           [697]      0.040000         1   \n",
       "2           [212, 595, 378]           [595]      0.142857         1   \n",
       "3  [42, 780, 439, 709, 366]  [42, 709, 439]      0.176471         1   \n",
       "4       [224, 439, 42, 480]            [42]      0.050000         1   \n",
       "\n",
       "   companyID  companySize  \n",
       "0         79            3  \n",
       "1        141            2  \n",
       "2        259            7  \n",
       "3        146            3  \n",
       "4        195            6  "
      ]
     },
     "execution_count": 13,
     "metadata": {},
     "output_type": "execute_result"
    }
   ],
   "source": [
    "Train.head()"
   ]
  },
  {
   "cell_type": "code",
   "execution_count": 14,
   "metadata": {},
   "outputs": [],
   "source": [
    "COLUMNS = ['userID','jobID','companyID','companySize','matchTagsPer','anyMatch']\n",
    "CATEGORY = ['userID','jobID','companyID','anyMatch','companySize']\n",
    "MUL_CATEGORY = ['matchTags']\n",
    "CONTINUE = ['matchTagsPer']"
   ]
  },
  {
   "cell_type": "code",
   "execution_count": 15,
   "metadata": {},
   "outputs": [],
   "source": [
    "train_data = Train[COLUMNS]\n",
    "test_data = Test[COLUMNS]"
   ]
  },
  {
   "cell_type": "code",
   "execution_count": 16,
   "metadata": {},
   "outputs": [],
   "source": [
    "train_label = np.array(Train['applied'])"
   ]
  },
  {
   "cell_type": "code",
   "execution_count": 17,
   "metadata": {},
   "outputs": [
    {
     "data": {
      "text/plain": [
       "'\\nd = pd.concat([train_data,test_data])\\nfor col in CONTINUE:\\n    scaler = StandardScaler();\\n    data[col] = scaler.fit_transform(d[[col]])\\n    train_data[col] = scaler.transform(train_data[[col]])\\n    test_data[col] = scaler.transform(test_data[[col]])\\n'"
      ]
     },
     "execution_count": 17,
     "metadata": {},
     "output_type": "execute_result"
    }
   ],
   "source": [
    "# Category / Continue columns encoding\n",
    "'''\n",
    "d = pd.concat([train_data,test_data])\n",
    "for col in CONTINUE:\n",
    "    scaler = StandardScaler();\n",
    "    data[col] = scaler.fit_transform(d[[col]])\n",
    "    train_data[col] = scaler.transform(train_data[[col]])\n",
    "    test_data[col] = scaler.transform(test_data[[col]])\n",
    "    \n",
    "feature_num={}\n",
    "for col in CATEGORY:\n",
    "    le = LabelEncoder(); \n",
    "    data[col] = le.fit_transform(data[col])\n",
    "    train[col] = le.transform(train[col])\n",
    "    test[col] = le.transform(test[col])\n",
    "    feature_num[col] = data[col].max()\n",
    "for col in CONTINUE:\n",
    "    scaler = StandardScaler(); \n",
    "    data[col] = scaler.fit_transform(data[[col]])\n",
    "    train[col] = scaler.transform(train[[col]])\n",
    "    test[col] = scaler.transform(test[[col]])\n",
    "'''"
   ]
  },
  {
   "cell_type": "code",
   "execution_count": 19,
   "metadata": {},
   "outputs": [
    {
     "data": {
      "text/html": [
       "<div>\n",
       "<style scoped>\n",
       "    .dataframe tbody tr th:only-of-type {\n",
       "        vertical-align: middle;\n",
       "    }\n",
       "\n",
       "    .dataframe tbody tr th {\n",
       "        vertical-align: top;\n",
       "    }\n",
       "\n",
       "    .dataframe thead th {\n",
       "        text-align: right;\n",
       "    }\n",
       "</style>\n",
       "<table border=\"1\" class=\"dataframe\">\n",
       "  <thead>\n",
       "    <tr style=\"text-align: right;\">\n",
       "      <th></th>\n",
       "      <th>userID</th>\n",
       "      <th>jobID</th>\n",
       "      <th>companyID</th>\n",
       "      <th>companySize</th>\n",
       "      <th>matchTagsPer</th>\n",
       "      <th>anyMatch</th>\n",
       "    </tr>\n",
       "  </thead>\n",
       "  <tbody>\n",
       "    <tr>\n",
       "      <th>0</th>\n",
       "      <td>195</td>\n",
       "      <td>52</td>\n",
       "      <td>79</td>\n",
       "      <td>3</td>\n",
       "      <td>0.000000</td>\n",
       "      <td>0</td>\n",
       "    </tr>\n",
       "    <tr>\n",
       "      <th>1</th>\n",
       "      <td>64</td>\n",
       "      <td>245</td>\n",
       "      <td>141</td>\n",
       "      <td>2</td>\n",
       "      <td>0.040000</td>\n",
       "      <td>1</td>\n",
       "    </tr>\n",
       "    <tr>\n",
       "      <th>2</th>\n",
       "      <td>111</td>\n",
       "      <td>35</td>\n",
       "      <td>259</td>\n",
       "      <td>7</td>\n",
       "      <td>0.142857</td>\n",
       "      <td>1</td>\n",
       "    </tr>\n",
       "    <tr>\n",
       "      <th>3</th>\n",
       "      <td>190</td>\n",
       "      <td>177</td>\n",
       "      <td>146</td>\n",
       "      <td>3</td>\n",
       "      <td>0.176471</td>\n",
       "      <td>1</td>\n",
       "    </tr>\n",
       "    <tr>\n",
       "      <th>4</th>\n",
       "      <td>159</td>\n",
       "      <td>117</td>\n",
       "      <td>195</td>\n",
       "      <td>6</td>\n",
       "      <td>0.050000</td>\n",
       "      <td>1</td>\n",
       "    </tr>\n",
       "  </tbody>\n",
       "</table>\n",
       "</div>"
      ],
      "text/plain": [
       "   userID  jobID  companyID  companySize  matchTagsPer  anyMatch\n",
       "0     195     52         79            3      0.000000         0\n",
       "1      64    245        141            2      0.040000         1\n",
       "2     111     35        259            7      0.142857         1\n",
       "3     190    177        146            3      0.176471         1\n",
       "4     159    117        195            6      0.050000         1"
      ]
     },
     "execution_count": 19,
     "metadata": {},
     "output_type": "execute_result"
    }
   ],
   "source": [
    "train_data.head()"
   ]
  },
  {
   "cell_type": "code",
   "execution_count": 20,
   "metadata": {},
   "outputs": [
    {
     "data": {
      "text/plain": [
       "array([[  0,   0,   0, ...,   0,   0,   0],\n",
       "       [697,   0,   0, ...,   0,   0,   0],\n",
       "       [595,   0,   0, ...,   0,   0,   0],\n",
       "       ...,\n",
       "       [697, 836,   0, ...,   0,   0,   0],\n",
       "       [439,   0,   0, ...,   0,   0,   0],\n",
       "       [440,   0,   0, ...,   0,   0,   0]])"
      ]
     },
     "execution_count": 20,
     "metadata": {},
     "output_type": "execute_result"
    }
   ],
   "source": [
    "train_matchTags"
   ]
  },
  {
   "cell_type": "code",
   "execution_count": 21,
   "metadata": {},
   "outputs": [
    {
     "data": {
      "text/html": [
       "<div>\n",
       "<style scoped>\n",
       "    .dataframe tbody tr th:only-of-type {\n",
       "        vertical-align: middle;\n",
       "    }\n",
       "\n",
       "    .dataframe tbody tr th {\n",
       "        vertical-align: top;\n",
       "    }\n",
       "\n",
       "    .dataframe thead th {\n",
       "        text-align: right;\n",
       "    }\n",
       "</style>\n",
       "<table border=\"1\" class=\"dataframe\">\n",
       "  <thead>\n",
       "    <tr style=\"text-align: right;\">\n",
       "      <th></th>\n",
       "      <th>userID</th>\n",
       "      <th>jobID</th>\n",
       "      <th>companyID</th>\n",
       "      <th>companySize</th>\n",
       "      <th>matchTagsPer</th>\n",
       "      <th>anyMatch</th>\n",
       "    </tr>\n",
       "  </thead>\n",
       "  <tbody>\n",
       "    <tr>\n",
       "      <th>0</th>\n",
       "      <td>180</td>\n",
       "      <td>157</td>\n",
       "      <td>193</td>\n",
       "      <td>3</td>\n",
       "      <td>0.230769</td>\n",
       "      <td>1</td>\n",
       "    </tr>\n",
       "    <tr>\n",
       "      <th>1</th>\n",
       "      <td>121</td>\n",
       "      <td>420</td>\n",
       "      <td>168</td>\n",
       "      <td>6</td>\n",
       "      <td>0.083333</td>\n",
       "      <td>1</td>\n",
       "    </tr>\n",
       "    <tr>\n",
       "      <th>2</th>\n",
       "      <td>29</td>\n",
       "      <td>252</td>\n",
       "      <td>111</td>\n",
       "      <td>3</td>\n",
       "      <td>0.166667</td>\n",
       "      <td>1</td>\n",
       "    </tr>\n",
       "  </tbody>\n",
       "</table>\n",
       "</div>"
      ],
      "text/plain": [
       "   userID  jobID  companyID  companySize  matchTagsPer  anyMatch\n",
       "0     180    157        193            3      0.230769         1\n",
       "1     121    420        168            6      0.083333         1\n",
       "2      29    252        111            3      0.166667         1"
      ]
     },
     "execution_count": 21,
     "metadata": {},
     "output_type": "execute_result"
    }
   ],
   "source": [
    "test_data.head(3)"
   ]
  },
  {
   "cell_type": "code",
   "execution_count": 22,
   "metadata": {},
   "outputs": [
    {
     "data": {
      "text/plain": [
       "array([[204, 141, 423, ...,   0,   0,   0],\n",
       "       [204,   0,   0, ...,   0,   0,   0],\n",
       "       [ 42,   0,   0, ...,   0,   0,   0],\n",
       "       ...,\n",
       "       [202, 836,   0, ...,   0,   0,   0],\n",
       "       [595,   0,   0, ...,   0,   0,   0],\n",
       "       [  0,   0,   0, ...,   0,   0,   0]])"
      ]
     },
     "execution_count": 22,
     "metadata": {},
     "output_type": "execute_result"
    }
   ],
   "source": [
    "test_matchTags"
   ]
  },
  {
   "cell_type": "code",
   "execution_count": 23,
   "metadata": {},
   "outputs": [],
   "source": [
    "Train.to_csv('preprocessed_Train.csv',index=False)\n",
    "Test.to_csv('preprocessed_Test.csv',index=False)"
   ]
  },
  {
   "cell_type": "code",
   "execution_count": 24,
   "metadata": {},
   "outputs": [],
   "source": [
    "train_category = np.array(train_data[CATEGORY])\n",
    "test_category = np.array(test_data[CATEGORY])\n",
    "train_continue = np.array(train_data[CONTINUE])\n",
    "test_continue = np.array(test_data[CONTINUE])"
   ]
  },
  {
   "cell_type": "code",
   "execution_count": 25,
   "metadata": {},
   "outputs": [
    {
     "name": "stderr",
     "output_type": "stream",
     "text": [
      "C:\\Users\\moon\\Anaconda3\\lib\\site-packages\\ipykernel_launcher.py:2: FutureWarning: Sorting because non-concatenation axis is not aligned. A future version\n",
      "of pandas will change to not sort by default.\n",
      "\n",
      "To accept the future behavior, pass 'sort=False'.\n",
      "\n",
      "To retain the current behavior and silence the warning, pass 'sort=True'.\n",
      "\n",
      "  \n"
     ]
    }
   ],
   "source": [
    "dim = {}\n",
    "d = pd.concat([Train,Test])\n",
    "for col in CATEGORY:\n",
    "    dim[col] = len(d[col].unique())"
   ]
  },
  {
   "cell_type": "code",
   "execution_count": 26,
   "metadata": {},
   "outputs": [],
   "source": [
    "# test data의 label값이 없어서, 임의로 train/test set 나눔\n",
    "\n",
    "x_test = Train.sample(frac=0.15,random_state=2021)\n",
    "x_train = Train.drop(x_test.index)\n",
    "\n",
    "train_label = np.array(x_train['applied'])\n",
    "train_category = np.array(x_train[CATEGORY])\n",
    "train_continue = np.array(x_train[CONTINUE])\n",
    "train_matchTags = pad_matchTags(x_train)\n",
    "\n",
    "test_label = np.array(x_test['applied'])\n",
    "test_category = np.array(x_test[CATEGORY])\n",
    "test_continue = np.array(x_test[CONTINUE])\n",
    "test_matchTags = pad_matchTags(x_test)"
   ]
  },
  {
   "cell_type": "code",
   "execution_count": 29,
   "metadata": {},
   "outputs": [],
   "source": [
    "def DeepFM(k=16,deep_dim=256,flag=False):\n",
    "    inputs = []\n",
    "    flattens = []\n",
    "    \n",
    "    #2nd order FM\n",
    "    for col in CATEGORY:\n",
    "        input_ = Input(shape=(1,), name='2nd_input_'+col, dtype='int32')\n",
    "        embed_ = Embedding(dim[col], k, input_length=1,W_regularizer=l2_reg(0.001), name='2nd_embed_'+col)(input_)\n",
    "        flatten_ = Flatten(name='flatten_'+col)(embed_)\n",
    "        inputs.append(input_)\n",
    "        flattens.append(flatten_)\n",
    "        \n",
    "    if flag:\n",
    "        input_ = Input(shape=(max_len,),dtype='int32')\n",
    "        embed_ = Embedding(len(uniq_tagID),k, input_length=max_len)(input_)\n",
    "        flatten_ = Lambda(lambda x: K.mean(x,axis=1))(embed_) # None * max_len * k -> None * k\n",
    "        inputs.append(input_)\n",
    "        flattens.append(flatten_)\n",
    "    \n",
    "    sum_embeds = add(flattens)\n",
    "    sum_square_embeds = multiply([sum_embeds,sum_embeds])\n",
    "    square_embeds = []\n",
    "    \n",
    "    for layer in flattens:\n",
    "        square_embeds.append(multiply([layer,layer]))\n",
    "    square_sum_embeds = add(square_embeds)\n",
    "    subtract_layer = subtract([sum_square_embeds,square_sum_embeds])\n",
    "    second_order = Lambda(lambda x: x*0.5)(subtract_layer)\n",
    "    second_order = Dropout(0.9)(second_order)\n",
    "    \n",
    "    #1st order FM\n",
    "    layers = []\n",
    "    for idx,col in enumerate(CATEGORY):\n",
    "        embed_ = Embedding(dim[col],1,input_length=1,W_regularizer=l2_reg(0.001),name='1st_embed_'+col)(inputs[idx])\n",
    "        flatten_ = Flatten(name='1st_flatten_'+col)(embed_)\n",
    "        layers.append(flatten_)\n",
    "    \n",
    "    first_order = add(layers)\n",
    "    first_odrer = BatchNormalization()(first_order)\n",
    "    first_order = Dropout(0.9)(first_order)\n",
    "    \n",
    "    #deep\n",
    "    continue_input = Input(shape=(len(CONTINUE),),name='input_continue')\n",
    "    inputs.append(continue_input)\n",
    "    continue_dense = Dense(deep_dim, use_bias=False)(continue_input)\n",
    "    \n",
    "    deep = concatenate(flattens+[continue_dense])\n",
    "    deep = ReLU()(deep)\n",
    "    #deep = PReLU()(deep)\n",
    "    deep = Dropout(rate=0.6)(deep)\n",
    "    \n",
    "    deep = Dense(deep_dim)(deep)\n",
    "    deep = ReLU()(deep)\n",
    "    #deep = PReLU()(deep)\n",
    "    deep = Dropout(rate=0.3)(deep)\n",
    "    \n",
    "    deep = Dense(deep_dim)(deep)\n",
    "    deep = ReLU()(deep)\n",
    "    #deep = PReLU()(deep)\n",
    "    deep = Dropout(rate=0.2)(deep)\n",
    "    \n",
    "    concat_input = concatenate([first_order,second_order,deep])\n",
    "    outputs = Dense(1, activation='sigmoid')(concat_input)\n",
    "    \n",
    "    model = Model(inputs=inputs, outputs=outputs)\n",
    "    optimizer = optimizers.SGD(lr=0.01, decay=0, momentum=0.01, nesterov=True)\n",
    "    \n",
    "    loss = 'binary_crossentropy'\n",
    "    model.compile(optimizer=optimizer, loss=loss, metrics=[AUC(name='auc')])\n",
    "    \n",
    "    return model"
   ]
  },
  {
   "cell_type": "code",
   "execution_count": 40,
   "metadata": {
    "scrolled": true
   },
   "outputs": [
    {
     "name": "stderr",
     "output_type": "stream",
     "text": [
      "C:\\Users\\moon\\Anaconda3\\lib\\site-packages\\ipykernel_launcher.py:8: UserWarning: Update your `Embedding` call to the Keras 2 API: `Embedding(196, 18, input_length=1, name=\"2nd_embed_userID\", embeddings_regularizer=<keras.reg...)`\n",
      "  \n",
      "C:\\Users\\moon\\Anaconda3\\lib\\site-packages\\ipykernel_launcher.py:8: UserWarning: Update your `Embedding` call to the Keras 2 API: `Embedding(733, 18, input_length=1, name=\"2nd_embed_jobID\", embeddings_regularizer=<keras.reg...)`\n",
      "  \n",
      "C:\\Users\\moon\\Anaconda3\\lib\\site-packages\\ipykernel_launcher.py:8: UserWarning: Update your `Embedding` call to the Keras 2 API: `Embedding(276, 18, input_length=1, name=\"2nd_embed_companyID\", embeddings_regularizer=<keras.reg...)`\n",
      "  \n",
      "C:\\Users\\moon\\Anaconda3\\lib\\site-packages\\ipykernel_launcher.py:8: UserWarning: Update your `Embedding` call to the Keras 2 API: `Embedding(2, 18, input_length=1, name=\"2nd_embed_anyMatch\", embeddings_regularizer=<keras.reg...)`\n",
      "  \n",
      "C:\\Users\\moon\\Anaconda3\\lib\\site-packages\\ipykernel_launcher.py:8: UserWarning: Update your `Embedding` call to the Keras 2 API: `Embedding(8, 18, input_length=1, name=\"2nd_embed_companySize\", embeddings_regularizer=<keras.reg...)`\n",
      "  \n",
      "C:\\Users\\moon\\Anaconda3\\lib\\site-packages\\ipykernel_launcher.py:33: UserWarning: Update your `Embedding` call to the Keras 2 API: `Embedding(196, 1, input_length=1, name=\"1st_embed_userID\", embeddings_regularizer=<keras.reg...)`\n",
      "C:\\Users\\moon\\Anaconda3\\lib\\site-packages\\ipykernel_launcher.py:33: UserWarning: Update your `Embedding` call to the Keras 2 API: `Embedding(733, 1, input_length=1, name=\"1st_embed_jobID\", embeddings_regularizer=<keras.reg...)`\n",
      "C:\\Users\\moon\\Anaconda3\\lib\\site-packages\\ipykernel_launcher.py:33: UserWarning: Update your `Embedding` call to the Keras 2 API: `Embedding(276, 1, input_length=1, name=\"1st_embed_companyID\", embeddings_regularizer=<keras.reg...)`\n",
      "C:\\Users\\moon\\Anaconda3\\lib\\site-packages\\ipykernel_launcher.py:33: UserWarning: Update your `Embedding` call to the Keras 2 API: `Embedding(2, 1, input_length=1, name=\"1st_embed_anyMatch\", embeddings_regularizer=<keras.reg...)`\n",
      "C:\\Users\\moon\\Anaconda3\\lib\\site-packages\\ipykernel_launcher.py:33: UserWarning: Update your `Embedding` call to the Keras 2 API: `Embedding(8, 1, input_length=1, name=\"1st_embed_companySize\", embeddings_regularizer=<keras.reg...)`\n"
     ]
    }
   ],
   "source": [
    "model = DeepFM(k=18,deep_dim=48)"
   ]
  },
  {
   "cell_type": "code",
   "execution_count": 41,
   "metadata": {
    "scrolled": true
   },
   "outputs": [
    {
     "name": "stdout",
     "output_type": "stream",
     "text": [
      "Model: \"model_2\"\n",
      "__________________________________________________________________________________________________\n",
      "Layer (type)                    Output Shape         Param #     Connected to                     \n",
      "==================================================================================================\n",
      "2nd_input_userID (InputLayer)   (None, 1)            0                                            \n",
      "__________________________________________________________________________________________________\n",
      "2nd_input_jobID (InputLayer)    (None, 1)            0                                            \n",
      "__________________________________________________________________________________________________\n",
      "2nd_input_companyID (InputLayer (None, 1)            0                                            \n",
      "__________________________________________________________________________________________________\n",
      "2nd_input_anyMatch (InputLayer) (None, 1)            0                                            \n",
      "__________________________________________________________________________________________________\n",
      "2nd_input_companySize (InputLay (None, 1)            0                                            \n",
      "__________________________________________________________________________________________________\n",
      "input_3 (InputLayer)            (None, 8)            0                                            \n",
      "__________________________________________________________________________________________________\n",
      "2nd_embed_userID (Embedding)    (None, 1, 18)        3528        2nd_input_userID[0][0]           \n",
      "__________________________________________________________________________________________________\n",
      "2nd_embed_jobID (Embedding)     (None, 1, 18)        13194       2nd_input_jobID[0][0]            \n",
      "__________________________________________________________________________________________________\n",
      "2nd_embed_companyID (Embedding) (None, 1, 18)        4968        2nd_input_companyID[0][0]        \n",
      "__________________________________________________________________________________________________\n",
      "2nd_embed_anyMatch (Embedding)  (None, 1, 18)        36          2nd_input_anyMatch[0][0]         \n",
      "__________________________________________________________________________________________________\n",
      "2nd_embed_companySize (Embeddin (None, 1, 18)        144         2nd_input_companySize[0][0]      \n",
      "__________________________________________________________________________________________________\n",
      "embedding_3 (Embedding)         (None, 8, 18)        15966       input_3[0][0]                    \n",
      "__________________________________________________________________________________________________\n",
      "input_continue (InputLayer)     (None, 1)            0                                            \n",
      "__________________________________________________________________________________________________\n",
      "flatten_userID (Flatten)        (None, 18)           0           2nd_embed_userID[0][0]           \n",
      "__________________________________________________________________________________________________\n",
      "flatten_jobID (Flatten)         (None, 18)           0           2nd_embed_jobID[0][0]            \n",
      "__________________________________________________________________________________________________\n",
      "flatten_companyID (Flatten)     (None, 18)           0           2nd_embed_companyID[0][0]        \n",
      "__________________________________________________________________________________________________\n",
      "flatten_anyMatch (Flatten)      (None, 18)           0           2nd_embed_anyMatch[0][0]         \n",
      "__________________________________________________________________________________________________\n",
      "flatten_companySize (Flatten)   (None, 18)           0           2nd_embed_companySize[0][0]      \n",
      "__________________________________________________________________________________________________\n",
      "lambda_5 (Lambda)               (None, 18)           0           embedding_3[0][0]                \n",
      "__________________________________________________________________________________________________\n",
      "dense_6 (Dense)                 (None, 48)           48          input_continue[0][0]             \n",
      "__________________________________________________________________________________________________\n",
      "concatenate_4 (Concatenate)     (None, 156)          0           flatten_userID[0][0]             \n",
      "                                                                 flatten_jobID[0][0]              \n",
      "                                                                 flatten_companyID[0][0]          \n",
      "                                                                 flatten_anyMatch[0][0]           \n",
      "                                                                 flatten_companySize[0][0]        \n",
      "                                                                 lambda_5[0][0]                   \n",
      "                                                                 dense_6[0][0]                    \n",
      "__________________________________________________________________________________________________\n",
      "re_lu_5 (ReLU)                  (None, 156)          0           concatenate_4[0][0]              \n",
      "__________________________________________________________________________________________________\n",
      "dropout_10 (Dropout)            (None, 156)          0           re_lu_5[0][0]                    \n",
      "__________________________________________________________________________________________________\n",
      "dense_7 (Dense)                 (None, 48)           7536        dropout_10[0][0]                 \n",
      "__________________________________________________________________________________________________\n",
      "add_7 (Add)                     (None, 18)           0           flatten_userID[0][0]             \n",
      "                                                                 flatten_jobID[0][0]              \n",
      "                                                                 flatten_companyID[0][0]          \n",
      "                                                                 flatten_anyMatch[0][0]           \n",
      "                                                                 flatten_companySize[0][0]        \n",
      "                                                                 lambda_5[0][0]                   \n",
      "__________________________________________________________________________________________________\n",
      "multiply_16 (Multiply)          (None, 18)           0           flatten_userID[0][0]             \n",
      "                                                                 flatten_userID[0][0]             \n",
      "__________________________________________________________________________________________________\n",
      "multiply_17 (Multiply)          (None, 18)           0           flatten_jobID[0][0]              \n",
      "                                                                 flatten_jobID[0][0]              \n",
      "__________________________________________________________________________________________________\n",
      "multiply_18 (Multiply)          (None, 18)           0           flatten_companyID[0][0]          \n",
      "                                                                 flatten_companyID[0][0]          \n",
      "__________________________________________________________________________________________________\n",
      "multiply_19 (Multiply)          (None, 18)           0           flatten_anyMatch[0][0]           \n",
      "                                                                 flatten_anyMatch[0][0]           \n",
      "__________________________________________________________________________________________________\n",
      "multiply_20 (Multiply)          (None, 18)           0           flatten_companySize[0][0]        \n",
      "                                                                 flatten_companySize[0][0]        \n",
      "__________________________________________________________________________________________________\n",
      "multiply_21 (Multiply)          (None, 18)           0           lambda_5[0][0]                   \n",
      "                                                                 lambda_5[0][0]                   \n",
      "__________________________________________________________________________________________________\n"
     ]
    },
    {
     "name": "stdout",
     "output_type": "stream",
     "text": [
      "re_lu_6 (ReLU)                  (None, 48)           0           dense_7[0][0]                    \n",
      "__________________________________________________________________________________________________\n",
      "1st_embed_userID (Embedding)    (None, 1, 1)         196         2nd_input_userID[0][0]           \n",
      "__________________________________________________________________________________________________\n",
      "1st_embed_jobID (Embedding)     (None, 1, 1)         733         2nd_input_jobID[0][0]            \n",
      "__________________________________________________________________________________________________\n",
      "1st_embed_companyID (Embedding) (None, 1, 1)         276         2nd_input_companyID[0][0]        \n",
      "__________________________________________________________________________________________________\n",
      "1st_embed_anyMatch (Embedding)  (None, 1, 1)         2           2nd_input_anyMatch[0][0]         \n",
      "__________________________________________________________________________________________________\n",
      "1st_embed_companySize (Embeddin (None, 1, 1)         8           2nd_input_companySize[0][0]      \n",
      "__________________________________________________________________________________________________\n",
      "multiply_15 (Multiply)          (None, 18)           0           add_7[0][0]                      \n",
      "                                                                 add_7[0][0]                      \n",
      "__________________________________________________________________________________________________\n",
      "add_8 (Add)                     (None, 18)           0           multiply_16[0][0]                \n",
      "                                                                 multiply_17[0][0]                \n",
      "                                                                 multiply_18[0][0]                \n",
      "                                                                 multiply_19[0][0]                \n",
      "                                                                 multiply_20[0][0]                \n",
      "                                                                 multiply_21[0][0]                \n",
      "__________________________________________________________________________________________________\n",
      "dropout_11 (Dropout)            (None, 48)           0           re_lu_6[0][0]                    \n",
      "__________________________________________________________________________________________________\n",
      "1st_flatten_userID (Flatten)    (None, 1)            0           1st_embed_userID[0][0]           \n",
      "__________________________________________________________________________________________________\n",
      "1st_flatten_jobID (Flatten)     (None, 1)            0           1st_embed_jobID[0][0]            \n",
      "__________________________________________________________________________________________________\n",
      "1st_flatten_companyID (Flatten) (None, 1)            0           1st_embed_companyID[0][0]        \n",
      "__________________________________________________________________________________________________\n",
      "1st_flatten_anyMatch (Flatten)  (None, 1)            0           1st_embed_anyMatch[0][0]         \n",
      "__________________________________________________________________________________________________\n",
      "1st_flatten_companySize (Flatte (None, 1)            0           1st_embed_companySize[0][0]      \n",
      "__________________________________________________________________________________________________\n",
      "subtract_3 (Subtract)           (None, 18)           0           multiply_15[0][0]                \n",
      "                                                                 add_8[0][0]                      \n",
      "__________________________________________________________________________________________________\n",
      "dense_8 (Dense)                 (None, 48)           2352        dropout_11[0][0]                 \n",
      "__________________________________________________________________________________________________\n",
      "add_9 (Add)                     (None, 1)            0           1st_flatten_userID[0][0]         \n",
      "                                                                 1st_flatten_jobID[0][0]          \n",
      "                                                                 1st_flatten_companyID[0][0]      \n",
      "                                                                 1st_flatten_anyMatch[0][0]       \n",
      "                                                                 1st_flatten_companySize[0][0]    \n",
      "__________________________________________________________________________________________________\n",
      "lambda_6 (Lambda)               (None, 18)           0           subtract_3[0][0]                 \n",
      "__________________________________________________________________________________________________\n",
      "re_lu_7 (ReLU)                  (None, 48)           0           dense_8[0][0]                    \n",
      "__________________________________________________________________________________________________\n",
      "dropout_9 (Dropout)             (None, 1)            0           add_9[0][0]                      \n",
      "__________________________________________________________________________________________________\n",
      "dropout_8 (Dropout)             (None, 18)           0           lambda_6[0][0]                   \n",
      "__________________________________________________________________________________________________\n",
      "dropout_12 (Dropout)            (None, 48)           0           re_lu_7[0][0]                    \n",
      "__________________________________________________________________________________________________\n",
      "concatenate_5 (Concatenate)     (None, 67)           0           dropout_9[0][0]                  \n",
      "                                                                 dropout_8[0][0]                  \n",
      "                                                                 dropout_12[0][0]                 \n",
      "__________________________________________________________________________________________________\n",
      "dense_9 (Dense)                 (None, 1)            68          concatenate_5[0][0]              \n",
      "==================================================================================================\n",
      "Total params: 49,055\n",
      "Trainable params: 49,055\n",
      "Non-trainable params: 0\n",
      "__________________________________________________________________________________________________\n"
     ]
    }
   ],
   "source": [
    "model.summary()"
   ]
  },
 ],
 "metadata": {
  "kernelspec": {
   "display_name": "Python 3",
   "language": "python",
   "name": "python3"
  },
  "language_info": {
   "codemirror_mode": {
    "name": "ipython",
    "version": 3
   },
   "file_extension": ".py",
   "mimetype": "text/x-python",
   "name": "python",
   "nbconvert_exporter": "python",
   "pygments_lexer": "ipython3",
   "version": "3.7.3"
  }
 },
 "nbformat": 4,
 "nbformat_minor": 2
}
